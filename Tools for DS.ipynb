{
 "cells": [
  {
   "cell_type": "markdown",
   "id": "57f58a55-d56b-45d0-9715-a53db632f352",
   "metadata": {},
   "source": [
    "# Data Science Tools and Ecosystem\n"
   ]
  },
  {
   "cell_type": "markdown",
   "id": "2451a799-5c61-4592-ba41-b3a311b0318b",
   "metadata": {},
   "source": [
    "## Introduction  \n",
    "In this notebook, we will explore various tools and languages used in the field of Data Science. This includes common programming languages, libraries, and tools, as well as some basic arithmetic examples.\n"
   ]
  },
  {
   "cell_type": "markdown",
   "id": "6386602c-041a-4169-a5cb-3b35cf7e91e5",
   "metadata": {},
   "source": [
    "## Languages Used in Data Science  \n",
    "Some of the commonly used languages in Data Science are:  \n",
    "- Python  \n",
    "- R  \n",
    "- SQL  \n",
    "- Java  \n",
    "- Julia\n"
   ]
  },
  {
   "cell_type": "markdown",
   "id": "0691ff19-b93a-44f7-ac0d-6acdce11def4",
   "metadata": {},
   "source": [
    "## Popular Data Science Libraries  \n",
    "The most commonly used libraries in Data Science include:  \n",
    "- Pandas  \n",
    "- NumPy  \n",
    "- Matplotlib  \n",
    "- Scikit-learn  \n",
    "- TensorFlow\n"
   ]
  },
  {
   "cell_type": "markdown",
   "id": "add56fa4-ef2a-4969-b31d-8b729d7a165d",
   "metadata": {},
   "source": [
    "## Data Science Tools\n",
    "\n",
    "| Tool Name     | Category        | Description                     |\n",
    "|---------------|-----------------|---------------------------------|\n",
    "| Jupyter       | IDE/Notebook    | Interactive coding environment  |\n",
    "| Apache Spark  | Big Data Tool   | Distributed data processing     |\n",
    "| Tableau       | Visualization   | Data visualization tool         |\n",
    "| RStudio       | IDE             | IDE for R                       |\n",
    "| VS Code       | Code Editor     | Lightweight code editor         |\n"
   ]
  },
  {
   "cell_type": "markdown",
   "id": "429d5bc3-b5c7-4331-83c9-fc997f22f91d",
   "metadata": {},
   "source": [
    "## Examples of Arithmetic Expressions  \n",
    "Below are some basic arithmetic operations like multiplication and addition.\n"
   ]
  },
  {
   "cell_type": "code",
   "execution_count": 9,
   "id": "2c7a5d46-8191-4a1c-ba3c-9ce298fdd157",
   "metadata": {},
   "outputs": [
    {
     "data": {
      "text/plain": [
       "17"
      ]
     },
     "execution_count": 9,
     "metadata": {},
     "output_type": "execute_result"
    }
   ],
   "source": [
    "# This will multiply 3 by 4 and then add 5\n",
    "result = (3 * 4) + 5\n",
    "result\n"
   ]
  },
  {
   "cell_type": "code",
   "execution_count": 11,
   "id": "5a628446-c35a-4eb5-98ce-e01dc1ee8b83",
   "metadata": {},
   "outputs": [
    {
     "data": {
      "text/plain": [
       "3.3333333333333335"
      ]
     },
     "execution_count": 11,
     "metadata": {},
     "output_type": "execute_result"
    }
   ],
   "source": [
    "# Convert 200 minutes to hours\n",
    "minutes = 200\n",
    "hours = minutes / 60\n",
    "hours\n"
   ]
  },
  {
   "cell_type": "markdown",
   "id": "f2769c95-97b5-4d77-b42b-98905ed50c9e",
   "metadata": {},
   "source": [
    "## Objectives  \n",
    "In this notebook we will cover:  \n",
    "- Popular languages used by data scientists  \n",
    "- Commonly used libraries and tools  \n",
    "- Examples of arithmetic expressions  \n",
    "- Conversion of time units  \n",
    "- Listing objectives and author info\n"
   ]
  },
  {
   "cell_type": "markdown",
   "id": "eebb1c25-5d9a-4a57-b63f-ce558b95fd9a",
   "metadata": {},
   "source": [
    "## Author  \n",
    "**Vaishnavi Katikar**\n"
   ]
  },
  {
   "cell_type": "markdown",
   "id": "899cc758-d24e-4921-8cfe-275c9e3f3e2c",
   "metadata": {},
   "source": [
    "## Sharing Notebook  \n",
    "The notebook has been uploaded and shared through GitHub at the following URL:  \n",
    "[GitHub Repository Link](https://github.com/your-username/your-repository)\n"
   ]
  },
  {
   "cell_type": "markdown",
   "id": "8733890b-0355-4d03-80f8-e3c963a914d7",
   "metadata": {},
   "source": []
  },
  {
   "cell_type": "code",
   "execution_count": null,
   "id": "e9bd683a-94c1-4baf-9c2b-bae916196a95",
   "metadata": {},
   "outputs": [],
   "source": []
  }
 ],
 "metadata": {
  "kernelspec": {
   "display_name": "Python [conda env:base] *",
   "language": "python",
   "name": "conda-base-py"
  },
  "language_info": {
   "codemirror_mode": {
    "name": "ipython",
    "version": 3
   },
   "file_extension": ".py",
   "mimetype": "text/x-python",
   "name": "python",
   "nbconvert_exporter": "python",
   "pygments_lexer": "ipython3",
   "version": "3.12.3"
  }
 },
 "nbformat": 4,
 "nbformat_minor": 5
}
